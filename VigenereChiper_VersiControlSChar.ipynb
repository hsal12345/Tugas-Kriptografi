{
 "cells": [
  {
   "cell_type": "code",
   "execution_count": 2,
   "metadata": {},
   "outputs": [
    {
     "name": "stdout",
     "output_type": "stream",
     "text": [
      "plain text   :  BEES ARE FLYING INSECTS CLOSELY RELATED TO WASPS AND ANTS, KNOWN FOR THEIR ROLE IN POLLINATION AND, IN THE CASE OF THE BEST-KNOWN BEE SPECIES, THE WESTERN HONEY BEE, FOR PRODUCING HONEY AND BEESWAX. BEES ARE A MONOPHYLETIC LINEAGE WITHIN THE SUPERFAMILY APOIDEA AND ARE PRESENTLY CONSIDERED A CLADE, CALLED ANTHOPHILA. THERE ARE OVER 16,000 KNOWN SPECIES OF BEES IN SEVEN RECOGNIZED BIOLOGICAL FAMILIES.[1][2] THEY ARE FOUND ON EVERY CONTINENT EXCEPT ANTARCTICA, IN EVERY HABITAT ON THE PLANET THAT CONTAINS INSECT-POLLINATED FLOWERING PLANTS.\n",
      "key to plain :  APDA PDA PDAPDA PDAPDAP DAPDAPD APDAPDA PD APDAP DAP DAPDA PDAPD APD APDAP DAPD AP DAPDAPDAPDA PDAP DA PDA PDAP DA PDA PDAPDAPDAP DAP DAPDAPDA PDA PDAPDAP DAPDA PDAP DAP DAPDAPDAP DAPDA PDA PDAPDAPD APDA PDA P DAPDAPDAPDAP DAPDAPD APDAPD APD APDAPDAPDAP DAPDAPD APD APD APDAPDAPD APDAPDAPDA P DAPDAP DAPDAP DAPDAPDAPDA PDAPD APD APDA PDAPDA PDAPD APDAPDA PD APDA PD APDAP DAPDAPDAPD APDAPDAPDA PDAPDAPDAPDAPDA PDAP DAP DAPDA PD APDAP DAPDAPDAP DAPDAP DAPDAPDAPDA PD APDAP DAPDAPD AP DAP DAPDAP DAPD APDAPDAP DAPDAPDAPDAPDAPDA PDAPDAPDA PDAPDAP\n",
      "BTHS PUE UOYXQG XQSTFTH FLDVEAB RTOAIHD IR WPVPH DNS DNIV+ ZQOLQ FDU TWHIG UOAH IC SOAOICDTXRN PQD+ LN IKE RDST RF IKE QHSI+KCRWC EET VPTFITV+ IKE LHSIHRC KOCHY QHE+ IOG SRDGURLNV KOCHY PQD QHEHZAM+ BTHS PUE P POCRPWBLTWIR OICHAVH WXWHXQ TWH SJSEGIABLLN DPDLDTD ACG AGH PGHSTQTAB CDQSXGEGHD P FLPGE+ FAAOES DNIKOEKIAD+ IKEGH AGH OKHR OC+OCZ ZQOLQ SEHCXHS DI BTHS XQ STYEC UERRGCLZTG BXRLDJIRDL UDMXOITV++C++C+ IKEN DRT IOJQD DQ EKHRN FOCWICHNI HXRHPI DNIDRRWIRD+ XQ EKHRN KAQLTPW OC WHT SLPQEI WHPW CDQTPLNH LNHHCI+PDOLXQAIHD UOOLHRXQG EOACWS+\n"
     ]
    }
   ],
   "source": [
    "# Vigenere Criptor\n",
    "import numpy as np\n",
    "\n",
    "letter = 'ABCDEFGHIJKLMNOPQRSTUVWXYZ'\n",
    "special_c = ',.;\"/][}{)(!@#$%^&*:|\\<>?-=_+'\n",
    "\n",
    "def vigenere_kriptor(plain, key):\n",
    "    \n",
    "    plain = plain.upper()\n",
    "    key = key.upper()\n",
    "    \n",
    "    #Buat Plain key dari key yang diberikan\n",
    "    plain_key = ''\n",
    "    if len(plain) <= len(key):\n",
    "        for k in range(len(plain)):\n",
    "            if plain[k] != ' ':\n",
    "                plain_key += key[k]\n",
    "            else:\n",
    "                plain_key += ' '\n",
    "    else:\n",
    "        looper = 0\n",
    "        for k2 in range(len(plain)):\n",
    "            if plain[k2] != ' ':\n",
    "                if looper > len(key) - 1:\n",
    "                    plain_key += key[0]\n",
    "                    looper = 1\n",
    "                    #print('k : ',k2)\n",
    "                    #print('key : ',len(key))\n",
    "                    #print('looper : ',looper)\n",
    "                else :\n",
    "                    plain_key += key[looper]\n",
    "                    looper += 1\n",
    "                    #print('k : ',k2)\n",
    "                    #print('key : ',len(key))\n",
    "                    #print('looper : ',looper)\n",
    "            else:\n",
    "                plain_key += ' '\n",
    "                \n",
    "    # vigenere kriptor\n",
    "    chiper_text = ''\n",
    "    for x in range(len(plain)):\n",
    "        if plain[x] != ' ':\n",
    "            if plain[x] in special_c or plain[x] == \"'\":\n",
    "                chiper_text += '+'\n",
    "            else:\n",
    "                c = letter.find(plain[x]) + letter.find(plain_key[x])\n",
    "                c = np.mod(c, 26)\n",
    "            \n",
    "                chiper_text += letter[c]\n",
    "        else:\n",
    "            chiper_text += ' '\n",
    "            \n",
    "    print('plain text   : ',plain)\n",
    "    print('key to plain : ',plain_key)\n",
    "        \n",
    "    return chiper_text, plain_key\n",
    "      \n",
    "        \n",
    "v = vigenere_kriptor('Bees are flying insects closely related to wasps and ants, known for their role in pollination and, in the case of the best-known bee species, the western honey bee, for producing honey and beeswax. Bees are a monophyletic lineage within the superfamily Apoidea and are presently considered a clade, called Anthophila. There are over 16,000 known species of bees in seven recognized biological families.[1][2] They are found on every continent except Antarctica, in every habitat on the planet that contains insect-pollinated flowering plants.', 'APD')\n",
    "print(v[0])"
   ]
  },
  {
   "cell_type": "code",
   "execution_count": 3,
   "metadata": {},
   "outputs": [
    {
     "name": "stdout",
     "output_type": "stream",
     "text": [
      "chiper text   :  BTHS PUE UOYXQG XQSTFTH FLDVEAB RTOAIHD IR WPVPH DNS DNIV+ ZQOLQ FDU TWHIG UOAH IC SOAOICDTXRN PQD+ LN IKE RDST RF IKE QHSI+KCRWC EET VPTFITV+ IKE LHSIHRC KOCHY QHE+ IOG SRDGURLNV KOCHY PQD QHEHZAM+ BTHS PUE P POCRPWBLTWIR OICHAVH WXWHXQ TWH SJSEGIABLLN DPDLDTD ACG AGH PGHSTQTAB CDQSXGEGHD P FLPGE+ FAAOES DNIKOEKIAD+ IKEGH AGH OKHR OC+OCZ ZQOLQ SEHCXHS DI BTHS XQ STYEC UERRGCLZTG BXRLDJIRDL UDMXOITV++C++C+ IKEN DRT IOJQD DQ EKHRN FOCWICHNI HXRHPI DNIDRRWIRD+ XQ EKHRN KAQLTPW OC WHT SLPQEI WHPW CDQTPLNH LNHHCI+PDOLXQAIHD UOOLHRXQG EOACWS+\n",
      "key to plain  :  APDA PDA PDAPDA PDAPDAP DAPDAPD APDAPDA PD APDAP DAP DAPDA PDAPD APD APDAP DAPD AP DAPDAPDAPDA PDAP DA PDA PDAP DA PDA PDAPDAPDAP DAP DAPDAPDA PDA PDAPDAP DAPDA PDAP DAP DAPDAPDAP DAPDA PDA PDAPDAPD APDA PDA P DAPDAPDAPDAP DAPDAPD APDAPD APD APDAPDAPDAP DAPDAPD APD APD APDAPDAPD APDAPDAPDA P DAPDAP DAPDAP DAPDAPDAPDA PDAPD APD APDA PDAPDA PDAPD APDAPDA PD APDA PD APDAP DAPDAPDAPD APDAPDAPDA PDAPDAPDAPDAPDA PDAP DAP DAPDA PD APDAP DAPDAPDAP DAPDAP DAPDAPDAPDA PD APDAP DAPDAPD AP DAP DAPDAP DAPD APDAPDAP DAPDAPDAPDAPDAPDA PDAPDAPDA PDAPDAP\n"
     ]
    },
    {
     "data": {
      "text/plain": [
       "'BEES ARE FLYING INSECTS CLOSELY RELATED TO WASPS AND ANTS+ KNOWN FOR THEIR ROLE IN POLLINATION AND+ IN THE CASE OF THE BEST+KNOWN BEE SPECIES+ THE WESTERN HONEY BEE+ FOR PRODUCING HONEY AND BEESWAX+ BEES ARE A MONOPHYLETIC LINEAGE WITHIN THE SUPERFAMILY APOIDEA AND ARE PRESENTLY CONSIDERED A CLADE+ CALLED ANTHOPHILA+ THERE ARE OVER ZZ+ZZZ KNOWN SPECIES OF BEES IN SEVEN RECOGNIZED BIOLOGICAL FAMILIES++Z++Z+ THEY ARE FOUND ON EVERY CONTINENT EXCEPT ANTARCTICA+ IN EVERY HABITAT ON THE PLANET THAT CONTAINS INSECT+POLLINATED FLOWERING PLANTS+'"
      ]
     },
     "execution_count": 3,
     "metadata": {},
     "output_type": "execute_result"
    }
   ],
   "source": [
    "def vigenere_dekriptor(chiper, key):\n",
    "    \n",
    "    chiper = chiper.upper()\n",
    "    key = key.upper()\n",
    "    \n",
    "    #Buat Plain key dari key yang diberikan\n",
    "    plain_key = ''\n",
    "    if len(chiper) <= len(key):\n",
    "        for k in range(len(chiper)):\n",
    "            if chiper[k] != ' ':\n",
    "                plain_key += key[k]\n",
    "            else:\n",
    "                plain_key += ' '\n",
    "    else:\n",
    "        looper = 0\n",
    "        for k2 in range(len(chiper)):\n",
    "            if chiper[k2] != ' ':\n",
    "                if looper > len(key) - 1:\n",
    "                    plain_key += key[0]\n",
    "                    looper = 1\n",
    "                    #print('k : ',k2)\n",
    "                    #print('key : ',len(key))\n",
    "                    #print('looper : ',looper)\n",
    "                else:\n",
    "                    plain_key += key[looper]\n",
    "                    looper += 1\n",
    "                    #print('k : ',k2)\n",
    "                    #print('key : ',len(key))\n",
    "                    #print('looper : ',looper)\n",
    "            else:\n",
    "                plain_key += ' '\n",
    "                \n",
    "    # vigenere kriptor\n",
    "    plain_text = ''\n",
    "    for x in range(len(chiper)):\n",
    "        if chiper[x] != ' ':\n",
    "            if chiper[x] == '+':\n",
    "                plain_text +=  '+'\n",
    "            else:\n",
    "                c = letter.find(chiper[x]) - letter.find(plain_key[x])\n",
    "                c = np.mod(c, 26)\n",
    "\n",
    "                plain_text += letter[c]\n",
    "        else:\n",
    "            plain_text += ' '\n",
    "            \n",
    "    print('chiper text   : ',chiper)\n",
    "    print('key to plain  : ',plain_key)\n",
    "        \n",
    "    return plain_text\n",
    "\n",
    "vigenere_dekriptor('BTHS PUE UOYXQG XQSTFTH FLDVEAB RTOAIHD IR WPVPH DNS DNIV+ ZQOLQ FDU TWHIG UOAH IC SOAOICDTXRN PQD+ LN IKE RDST RF IKE QHSI+KCRWC EET VPTFITV+ IKE LHSIHRC KOCHY QHE+ IOG SRDGURLNV KOCHY PQD QHEHZAM+ BTHS PUE P POCRPWBLTWIR OICHAVH WXWHXQ TWH SJSEGIABLLN DPDLDTD ACG AGH PGHSTQTAB CDQSXGEGHD P FLPGE+ FAAOES DNIKOEKIAD+ IKEGH AGH OKHR OC+OCZ ZQOLQ SEHCXHS DI BTHS XQ STYEC UERRGCLZTG BXRLDJIRDL UDMXOITV++C++C+ IKEN DRT IOJQD DQ EKHRN FOCWICHNI HXRHPI DNIDRRWIRD+ XQ EKHRN KAQLTPW OC WHT SLPQEI WHPW CDQTPLNH LNHHCI+PDOLXQAIHD UOOLHRXQG EOACWS+', 'APD')"
   ]
  },
  {
   "cell_type": "code",
   "execution_count": null,
   "metadata": {},
   "outputs": [],
   "source": []
  }
 ],
 "metadata": {
  "kernelspec": {
   "display_name": "Python 3",
   "language": "python",
   "name": "python3"
  },
  "language_info": {
   "codemirror_mode": {
    "name": "ipython",
    "version": 3
   },
   "file_extension": ".py",
   "mimetype": "text/x-python",
   "name": "python",
   "nbconvert_exporter": "python",
   "pygments_lexer": "ipython3",
   "version": "3.7.0"
  }
 },
 "nbformat": 4,
 "nbformat_minor": 2
}
